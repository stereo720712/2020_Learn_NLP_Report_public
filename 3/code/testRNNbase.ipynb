{
 "cells": [
  {
   "cell_type": "code",
   "execution_count": 1,
   "metadata": {},
   "outputs": [
    {
     "data": {
      "text/plain": [
       "'2.5.0-dev20201101'"
      ]
     },
     "execution_count": 1,
     "metadata": {},
     "output_type": "execute_result"
    }
   ],
   "source": [
    "import tensorflow as tf\n",
    "import numpy as np\n",
    "tf.__version__\n"
   ]
  },
  {
   "cell_type": "code",
   "execution_count": 2,
   "metadata": {},
   "outputs": [],
   "source": [
    "X = tf.random.normal(shape=(3, 1))\n",
    "W_xh = tf.random.normal(shape=(1, 4))\n",
    "H = tf.random.normal(shape=(3, 4))\n",
    "W_hh = tf.random.normal(shape=(4, 4))"
   ]
  },
  {
   "cell_type": "code",
   "execution_count": 3,
   "metadata": {},
   "outputs": [
    {
     "data": {
      "text/plain": [
       "<tf.Tensor: shape=(3, 4), dtype=float32, numpy=\n",
       "array([[ 1.23865157e-01, -4.51886654e-02, -1.29895344e-01,\n",
       "         7.33046010e-02],\n",
       "       [ 5.69931930e-04, -2.07923382e-04, -5.97678125e-04,\n",
       "         3.37291218e-04],\n",
       "       [-2.93629646e-01,  1.07122384e-01,  3.07924539e-01,\n",
       "        -1.73772857e-01]], dtype=float32)>"
      ]
     },
     "execution_count": 3,
     "metadata": {},
     "output_type": "execute_result"
    }
   ],
   "source": [
    "X_M = tf.matmul(X,W_xh)\n",
    "X_M"
   ]
  },
  {
   "cell_type": "code",
   "execution_count": 4,
   "metadata": {},
   "outputs": [
    {
     "data": {
      "text/plain": [
       "<tf.Tensor: shape=(3, 4), dtype=float32, numpy=\n",
       "array([[ 1.2654264 ,  1.208532  ,  2.4985871 , -1.8364582 ],\n",
       "       [ 1.9883127 ,  2.7280428 ,  1.7890401 , -1.7207539 ],\n",
       "       [-0.6031584 , -2.5213046 , -0.80639625, -0.9201181 ]],\n",
       "      dtype=float32)>"
      ]
     },
     "execution_count": 4,
     "metadata": {},
     "output_type": "execute_result"
    }
   ],
   "source": [
    "H_M = tf.matmul(H, W_hh)\n",
    "H_M\n"
   ]
  },
  {
   "cell_type": "code",
   "execution_count": 5,
   "metadata": {},
   "outputs": [
    {
     "data": {
      "text/plain": [
       "<tf.Tensor: shape=(3, 4), dtype=float32, numpy=\n",
       "array([[ 1.3892915 ,  1.1633433 ,  2.3686917 , -1.7631536 ],\n",
       "       [ 1.9888827 ,  2.727835  ,  1.7884424 , -1.7204167 ],\n",
       "       [-0.89678806, -2.4141822 , -0.4984717 , -1.0938909 ]],\n",
       "      dtype=float32)>"
      ]
     },
     "execution_count": 5,
     "metadata": {},
     "output_type": "execute_result"
    }
   ],
   "source": [
    "X_M + H_M\n"
   ]
  },
  {
   "cell_type": "code",
   "execution_count": 9,
   "metadata": {},
   "outputs": [
    {
     "data": {
      "text/plain": [
       "<tf.Tensor: shape=(3, 4), dtype=float32, numpy=\n",
       "array([[ 1.3892915 ,  1.1633433 ,  2.368692  , -1.7631537 ],\n",
       "       [ 1.9888827 ,  2.727835  ,  1.7884424 , -1.7204167 ],\n",
       "       [-0.89678806, -2.4141822 , -0.49847186, -1.0938909 ]],\n",
       "      dtype=float32)>"
      ]
     },
     "execution_count": 9,
     "metadata": {},
     "output_type": "execute_result"
    }
   ],
   "source": [
    "# RNN output\n",
    "#tf.concat([W_xh,W_hh],axis=0)\n",
    "tf.matmul(tf.concat([X,H],axis=1),tf.concat([W_xh,W_hh],axis=0))"
   ]
  },
  {
   "cell_type": "code",
   "execution_count": 10,
   "metadata": {},
   "outputs": [
    {
     "data": {
      "text/plain": [
       "'\\n'"
      ]
     },
     "execution_count": 10,
     "metadata": {},
     "output_type": "execute_result"
    }
   ],
   "source": [
    "'''\n",
    "将矩阵X和H按列（维度1）连结，连结后的矩阵形状为(3, 5)。可见，\n",
    "连结后矩阵在维度1的长度为矩阵X和H在维度1的长度之和（1+4）。然后，\n",
    "将矩阵W_xh和W_hh按行（维度0）连结，连结后的矩阵形状为(5, 4)。\n",
    "最后将两个连结后的矩阵相乘，得到与上面代码输出相同的形状为(3, 4)的矩阵。\n",
    "'''"
   ]
  }
 ],
 "metadata": {
  "kernelspec": {
   "display_name": "Python 3",
   "language": "python",
   "name": "python3"
  },
  "language_info": {
   "codemirror_mode": {
    "name": "ipython",
    "version": 3
   },
   "file_extension": ".py",
   "mimetype": "text/x-python",
   "name": "python",
   "nbconvert_exporter": "python",
   "pygments_lexer": "ipython3",
   "version": "3.7.9"
  },
  "varInspector": {
   "cols": {
    "lenName": 16,
    "lenType": 16,
    "lenVar": 40
   },
   "kernels_config": {
    "python": {
     "delete_cmd_postfix": "",
     "delete_cmd_prefix": "del ",
     "library": "var_list.py",
     "varRefreshCmd": "print(var_dic_list())"
    },
    "r": {
     "delete_cmd_postfix": ") ",
     "delete_cmd_prefix": "rm(",
     "library": "var_list.r",
     "varRefreshCmd": "cat(var_dic_list()) "
    }
   },
   "oldHeight": 122.84966,
   "position": {
    "height": "40px",
    "left": "680.25px",
    "right": "20px",
    "top": "120px",
    "width": "253.383px"
   },
   "types_to_exclude": [
    "module",
    "function",
    "builtin_function_or_method",
    "instance",
    "_Feature"
   ],
   "varInspector_section_display": "none",
   "window_display": true
  }
 },
 "nbformat": 4,
 "nbformat_minor": 4
}
