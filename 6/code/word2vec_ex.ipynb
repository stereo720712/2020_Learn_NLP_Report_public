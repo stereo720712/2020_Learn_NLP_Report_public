{
 "cells": [
  {
   "cell_type": "code",
   "execution_count": 9,
   "metadata": {},
   "outputs": [],
   "source": [
    "import gensim\n",
    "from gensim.models import word2vec\n"
   ]
  },
  {
   "cell_type": "code",
   "execution_count": 10,
   "metadata": {},
   "outputs": [
    {
     "data": {
      "text/plain": [
       "[['the', 'quick', 'brown', 'fox', 'jumps', 'over', 'the', 'lazy', 'dogs'],\n",
       " ['yoyoyo', 'you', 'go', 'home', 'now', 'to', 'sleep']]"
      ]
     },
     "execution_count": 10,
     "metadata": {},
     "output_type": "execute_result"
    }
   ],
   "source": [
    "raw_sentences = [\"the quick brown fox jumps over the lazy dogs\",\"yoyoyo you go home now to sleep\"]\n",
    "sentences = [s.split() for s in raw_sentences]\n",
    "sentences"
   ]
  },
  {
   "cell_type": "code",
   "execution_count": 11,
   "metadata": {},
   "outputs": [
    {
     "data": {
      "text/plain": [
       "0.010774005"
      ]
     },
     "execution_count": 11,
     "metadata": {},
     "output_type": "execute_result"
    }
   ],
   "source": [
    "model = word2vec.Word2Vec(sentences,min_count=1)\n",
    "model.wv.similarity('dogs','you')"
   ]
  },
  {
   "cell_type": "code",
   "execution_count": 13,
   "metadata": {},
   "outputs": [
    {
     "data": {
      "text/plain": [
       "array([ 3.5361270e-03, -1.4435980e-03, -3.6178138e-03,  1.0583306e-03,\n",
       "       -7.7279727e-04,  4.3936046e-03,  5.6030246e-04, -1.1633625e-03,\n",
       "        1.1492446e-03, -2.1964287e-04, -4.6032500e-03,  2.9623641e-03,\n",
       "       -4.8102546e-03,  1.5973281e-03, -8.7388337e-04,  4.2390716e-03,\n",
       "        4.2106817e-03, -3.0004042e-03,  2.1923000e-03, -1.8528461e-03,\n",
       "       -2.2540207e-03,  2.1846060e-04,  2.2578326e-03, -2.9289767e-03,\n",
       "        3.6993450e-03,  9.8484138e-04, -2.8477781e-03,  4.0784408e-03,\n",
       "        2.9463943e-03,  4.8052277e-03,  3.9526564e-03,  1.5184610e-03,\n",
       "        2.0656432e-03,  4.5633856e-03, -4.4467649e-03,  1.1839073e-03,\n",
       "       -3.6327565e-05,  1.4516851e-03, -2.4245961e-03, -1.1613140e-03,\n",
       "        4.8300005e-03, -5.0375471e-04, -3.1937994e-03, -2.9547273e-03,\n",
       "        3.4707123e-03, -2.2201487e-03, -2.3524764e-03,  5.5185908e-05,\n",
       "        3.4435363e-03, -1.6392599e-03,  1.8222096e-03,  3.7080178e-03,\n",
       "        3.4863511e-03,  1.6614974e-03, -1.7437971e-03, -4.1888510e-03,\n",
       "        1.2202293e-03, -1.7331794e-03,  1.1204339e-03,  8.6139078e-04,\n",
       "       -1.2497421e-03,  4.7666761e-03, -4.4507040e-03, -1.5270483e-03,\n",
       "       -2.8596479e-03,  4.7639986e-03,  8.5747917e-04,  3.2947250e-03,\n",
       "        2.8125907e-03,  2.7238708e-03, -4.4397772e-03, -9.4645767e-04,\n",
       "       -4.8004990e-03,  3.4206365e-03, -3.9766817e-03, -4.8443875e-03,\n",
       "       -7.4585201e-04,  1.8745711e-03,  1.9775289e-03,  3.6782047e-03,\n",
       "       -4.6956921e-03, -1.4656787e-03,  2.3798426e-03,  5.3188745e-05,\n",
       "        4.3268581e-03,  4.1152774e-03, -1.7207295e-03, -4.0345825e-03,\n",
       "        3.0426132e-03, -6.4275617e-04,  2.2303539e-03,  6.9428748e-04,\n",
       "        3.3341162e-03, -4.0955534e-03, -2.3157606e-03,  5.7129269e-05,\n",
       "        2.3100583e-03, -3.8445527e-03, -9.3597145e-04,  1.4542760e-03],\n",
       "      dtype=float32)"
      ]
     },
     "execution_count": 13,
     "metadata": {},
     "output_type": "execute_result"
    }
   ],
   "source": [
    "model.wv['dogs']"
   ]
  },
  {
   "cell_type": "code",
   "execution_count": null,
   "metadata": {},
   "outputs": [],
   "source": []
  }
 ],
 "metadata": {
  "kernelspec": {
   "display_name": "Python 3",
   "language": "python",
   "name": "python3"
  },
  "language_info": {
   "codemirror_mode": {
    "name": "ipython",
    "version": 3
   },
   "file_extension": ".py",
   "mimetype": "text/x-python",
   "name": "python",
   "nbconvert_exporter": "python",
   "pygments_lexer": "ipython3",
   "version": "3.7.0"
  },
  "varInspector": {
   "cols": {
    "lenName": 16,
    "lenType": 16,
    "lenVar": 40
   },
   "kernels_config": {
    "python": {
     "delete_cmd_postfix": "",
     "delete_cmd_prefix": "del ",
     "library": "var_list.py",
     "varRefreshCmd": "print(var_dic_list())"
    },
    "r": {
     "delete_cmd_postfix": ") ",
     "delete_cmd_prefix": "rm(",
     "library": "var_list.r",
     "varRefreshCmd": "cat(var_dic_list()) "
    }
   },
   "types_to_exclude": [
    "module",
    "function",
    "builtin_function_or_method",
    "instance",
    "_Feature"
   ],
   "window_display": false
  }
 },
 "nbformat": 4,
 "nbformat_minor": 4
}
