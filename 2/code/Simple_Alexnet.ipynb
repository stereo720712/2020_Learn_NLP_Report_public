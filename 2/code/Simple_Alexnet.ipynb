{
 "cells": [
  {
   "cell_type": "markdown",
   "metadata": {},
   "source": [
    "# AlexNet Demo \n"
   ]
  },
  {
   "cell_type": "code",
   "execution_count": 1,
   "metadata": {},
   "outputs": [
    {
     "data": {
      "text/plain": [
       "'2.5.0-dev20201101'"
      ]
     },
     "execution_count": 1,
     "metadata": {},
     "output_type": "execute_result"
    }
   ],
   "source": [
    "import sys\n",
    "sys.path.append('./')\n",
    "import numpy as np\n",
    "import tensorflow as tf\n",
    "import fox_proxy\n",
    "import os\n",
    "import utils\n",
    "from keras.utils import np_utils\n",
    "from keras.models import Sequential\n",
    "from keras.layers import Dense, Activation,Conv2D,MaxPool2D, Flatten,Dropout, BatchNormalization\n",
    "from keras.datasets import mnist\n",
    "from keras.optimizers import Adam\n",
    "from keras import backend as K\n",
    "from keras import models\n",
    "import cv2\n",
    "from keras.callbacks import TensorBoard, ModelCheckpoint, ReduceLROnPlateau, EarlyStopping\n",
    "K.image_data_format() == 'channels_first'\n",
    "tf.__version__\n"
   ]
  },
  {
   "cell_type": "code",
   "execution_count": 11,
   "metadata": {},
   "outputs": [],
   "source": [
    "## === Data process\n",
    "# path_img = os.path.join('.','data','image','train')\n",
    "# file_label = os.path.join('.','data','myLabel.txt')\n",
    "# photos = os.listdir(path_img)\n",
    "# with open(file_label,'w') as f:\n",
    "#     for photo in photos:\n",
    "#         name = photo.split('.')[0]\n",
    "#         if name == 'cat':\n",
    "#             f.write(photo + ';0\\n')\n",
    "#         elif name == 'dog':\n",
    "#             f.write(photo + ';1\\n')\n",
    "# f.close()            "
   ]
  },
  {
   "cell_type": "code",
   "execution_count": 3,
   "metadata": {},
   "outputs": [],
   "source": [
    "# 模型定義\n",
    "def AlexNet():\n",
    "    net = Sequential()\n",
    "    #1\n",
    "    net.add(Conv2D(filters=48,kernel_size=(11,11),strides=4,activation='relu',padding='valid'))\n",
    "    #2\n",
    "    net.add(BatchNormalization())\n",
    "    net.add(MaxPool2D(pool_size=3, strides=2,padding='valid'))\n",
    "    #3\n",
    "    net.add(Conv2D(filters=128,kernel_size=5,padding='same',activation='relu'))\n",
    "    net.add(BatchNormalization())\n",
    "    #4\n",
    "    net.add(MaxPool2D(pool_size=3,strides=2,padding='valid'))\n",
    "    #5\n",
    "    net.add(Conv2D(filters=192,kernel_size=3,padding='same',activation='relu'))\n",
    "    #6\n",
    "    net.add(Conv2D(filters=192,kernel_size=3,padding='same',activation='relu'))\n",
    "    #7\n",
    "    net.add(Conv2D(filters=128,kernel_size=3,padding='same',activation='relu' ))\n",
    "    #8\n",
    "    net.add(MaxPool2D(pool_size=3, strides=2,padding='valid'))\n",
    "    \n",
    "    net.add(Flatten())\n",
    "    net.add(Dense(4096,activation='relu'))\n",
    "    net.add(Dropout(0.25))\n",
    "    net.add(Dense(1024,activation='relu'))\n",
    "    net.add(Dropout(0.25))\n",
    "    net.add(Dense(2,activation='sigmoid'))\n",
    "    return net\n"
   ]
  },
  {
   "cell_type": "code",
   "execution_count": 6,
   "metadata": {},
   "outputs": [
    {
     "name": "stdout",
     "output_type": "stream",
     "text": [
      "conv2d_10 output_shape\t (1, 54, 54, 48)\n",
      "batch_normalization_4 output_shape\t (1, 54, 54, 48)\n",
      "max_pooling2d_6 output_shape\t (1, 26, 26, 48)\n",
      "conv2d_11 output_shape\t (1, 26, 26, 128)\n",
      "batch_normalization_5 output_shape\t (1, 26, 26, 128)\n",
      "max_pooling2d_7 output_shape\t (1, 12, 12, 128)\n",
      "conv2d_12 output_shape\t (1, 12, 12, 192)\n",
      "conv2d_13 output_shape\t (1, 12, 12, 192)\n",
      "conv2d_14 output_shape\t (1, 12, 12, 128)\n",
      "max_pooling2d_8 output_shape\t (1, 5, 5, 128)\n",
      "flatten_2 output_shape\t (1, 3200)\n",
      "dense_6 output_shape\t (1, 4096)\n",
      "dropout_4 output_shape\t (1, 4096)\n",
      "dense_7 output_shape\t (1, 1024)\n",
      "dropout_5 output_shape\t (1, 1024)\n",
      "dense_8 output_shape\t (1, 2)\n"
     ]
    }
   ],
   "source": [
    "# 隨機資料測試 查看模型的輸出\n",
    "# test\n",
    "net = AlexNet()\n",
    "X = tf.random.uniform((1,224,224,3))\n",
    "for layer in net.layers:\n",
    "    X = layer(X)\n",
    "    print(layer.name, 'output_shape\\t', X.shape)\n",
    "    "
   ]
  },
  {
   "cell_type": "code",
   "execution_count": null,
   "metadata": {},
   "outputs": [],
   "source": []
  }
 ],
 "metadata": {
  "kernelspec": {
   "display_name": "Python 3",
   "language": "python",
   "name": "python3"
  },
  "language_info": {
   "codemirror_mode": {
    "name": "ipython",
    "version": 3
   },
   "file_extension": ".py",
   "mimetype": "text/x-python",
   "name": "python",
   "nbconvert_exporter": "python",
   "pygments_lexer": "ipython3",
   "version": "3.7.9"
  },
  "varInspector": {
   "cols": {
    "lenName": 16,
    "lenType": 16,
    "lenVar": 40
   },
   "kernels_config": {
    "python": {
     "delete_cmd_postfix": "",
     "delete_cmd_prefix": "del ",
     "library": "var_list.py",
     "varRefreshCmd": "print(var_dic_list())"
    },
    "r": {
     "delete_cmd_postfix": ") ",
     "delete_cmd_prefix": "rm(",
     "library": "var_list.r",
     "varRefreshCmd": "cat(var_dic_list()) "
    }
   },
   "types_to_exclude": [
    "module",
    "function",
    "builtin_function_or_method",
    "instance",
    "_Feature"
   ],
   "window_display": false
  }
 },
 "nbformat": 4,
 "nbformat_minor": 4
}
